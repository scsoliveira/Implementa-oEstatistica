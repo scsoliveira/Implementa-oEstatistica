{
 "cells": [
  {
   "cell_type": "code",
   "execution_count": 1,
   "metadata": {},
   "outputs": [],
   "source": [
    "import math\n",
    "from random import randint\n",
    "from collections import Counter"
   ]
  },
  {
   "cell_type": "code",
   "execution_count": 6,
   "metadata": {},
   "outputs": [
    {
     "name": "stdout",
     "output_type": "stream",
     "text": [
      "Numeros: 47 40 37 29 38 15 47 34 11 43 49 40 37 40 5 25 31 25 28 31 22 24 26 34 7 50 25 23 8 44 28 24 33 1 14 5 47 7 1 49\n"
     ]
    }
   ],
   "source": [
    "# gera uma lista de 40 numeros no intervalo de 1 a 50\n",
    "nmini = 1\n",
    "nmax = 50\n",
    "lista_num = []\n",
    "for i in range(40):\n",
    "    lista_num.append(randint(nmini, nmax))\n",
    "print(\"Numeros:\", *lista_num)"
   ]
  },
  {
   "cell_type": "code",
   "execution_count": 7,
   "metadata": {},
   "outputs": [
    {
     "name": "stdout",
     "output_type": "stream",
     "text": [
      "Numeros: 1 1 5 5 7 7 8 11 14 15 22 23 24 24 25 25 25 26 28 28 29 31 31 33 34 34 37 37 38 40 40 40 43 44 47 47 47 49 49 50\n"
     ]
    }
   ],
   "source": [
    "# ordena em ordem crescente e exibe o resultado\n",
    "lista_num.sort()\n",
    "print(\"Numeros:\", *lista_num)"
   ]
  },
  {
   "cell_type": "code",
   "execution_count": 9,
   "metadata": {},
   "outputs": [],
   "source": [
    "tam = len(lista_num) # pega o tamanho da lista de num"
   ]
  },
  {
   "cell_type": "code",
   "execution_count": 11,
   "metadata": {},
   "outputs": [
    {
     "name": "stdout",
     "output_type": "stream",
     "text": [
      "Média aritmética dos numeros = 28.1\n",
      "Média ponderada dos numeros = 14.0\n",
      "\n",
      "Números aleatórios: 4 5 2 5 4 7 4 6 2 1\n",
      "Média geométrica dos números aleatórios: 26880.0\n"
     ]
    }
   ],
   "source": [
    "# Calculo media aritmetica \n",
    "aritmetica = sum(lista_num) / tam\n",
    "print(\"Média aritmética dos numeros =\", aritmetica)\n",
    "\n",
    "# Dicionario com os numeros e pesos\n",
    "notpes = {8: 3, 9: 2, 10: 2, 10: 1, 30: 2}\n",
    "\n",
    "somatorio = 0\n",
    "soma_pesos = 0\n",
    "for key, val in notpes.items():\n",
    "    somatorio += key * val\n",
    "    soma_pesos += val\n",
    "    \n",
    "ponderada = somatorio / soma_pesos\n",
    "print(\"Média ponderada dos numeros =\", ponderada) \n",
    "\n",
    "# para calcular a média geométrica, foi gerado outra lista de numeros\n",
    "lista_num2 = []\n",
    "for i in range(10):\n",
    "    lista_num2.append(randint(1, 8))\n",
    "print(\"\\nNúmeros aleatórios:\", *lista_num2)\n",
    "\n",
    "produto = 1\n",
    "for val in lista_num2:\n",
    "    produto *= val\n",
    "\n",
    "geo = produto ** 1/len(lista_num2) \n",
    "print(\"Média geométrica dos números aleatórios:\", geo)"
   ]
  },
  {
   "cell_type": "code",
   "execution_count": 13,
   "metadata": {},
   "outputs": [
    {
     "name": "stdout",
     "output_type": "stream",
     "text": [
      "Mediana = 23\n"
     ]
    }
   ],
   "source": [
    "lista_num3 = []\n",
    "for i in range(10):\n",
    "    lista_num3.append(randint(10, 30))\n",
    "    \n",
    "tam = len(lista_num3) # pega o tamanho da lista de num    \n",
    "    \n",
    "if(tam % 2 == 0):\n",
    "    mediana = (lista_num3[tam // 2] + lista_num3[(tam // 2) - 1]) / 2 \n",
    "else:\n",
    "    mediana = lista_num3[tam // 2]\n",
    "print(\"Mediana =\", int(mediana))"
   ]
  },
  {
   "cell_type": "code",
   "execution_count": 14,
   "metadata": {},
   "outputs": [
    {
     "name": "stdout",
     "output_type": "stream",
     "text": [
      "População: 10 29 28 24 27 13 21 27 22 30\n",
      "\n",
      "Amostra: 13 21 27 22 30\n"
     ]
    }
   ],
   "source": [
    "popu = []\n",
    "for i in range(10):\n",
    "    popu.append(randint(10, 30))\n",
    "\n",
    "print(\"População:\", *popu)\n",
    "\n",
    "amostra = popu[len(popu)//2:]\n",
    "print(\"\\nAmostra:\", *amostra)"
   ]
  },
  {
   "cell_type": "code",
   "execution_count": 17,
   "metadata": {},
   "outputs": [],
   "source": [
    "# média da amostra\n",
    "media = sum(amostra) / len(amostra)"
   ]
  },
  {
   "cell_type": "code",
   "execution_count": 19,
   "metadata": {},
   "outputs": [
    {
     "name": "stdout",
     "output_type": "stream",
     "text": [
      "Variância: 32.839999999999996\n"
     ]
    }
   ],
   "source": [
    "somatorio = 0\n",
    "for i in amostra:\n",
    "    somatorio += (i - media) ** 2\n",
    "variancia = somatorio / len(amostra) - 1\n",
    "\n",
    "print(\"Variância:\", variancia)"
   ]
  },
  {
   "cell_type": "code",
   "execution_count": 20,
   "metadata": {},
   "outputs": [
    {
     "name": "stdout",
     "output_type": "stream",
     "text": [
      "Desvio padrão: 5.730619512757761\n"
     ]
    }
   ],
   "source": [
    "desvio_p = math.sqrt(variancia) # raiz quadrada da variância\n",
    "print(\"Desvio padrão:\", desvio_p)"
   ]
  },
  {
   "cell_type": "code",
   "execution_count": 21,
   "metadata": {},
   "outputs": [
    {
     "name": "stdout",
     "output_type": "stream",
     "text": [
      "Desvio médio: 3.7200000000000006\n"
     ]
    }
   ],
   "source": [
    "somatorio = 0\n",
    "for i in amostra:\n",
    "    somatorio += abs(i - media) # abs = valor absoluto\n",
    "desvio_m = somatorio / len(amostra) - 1\n",
    "\n",
    "print(\"Desvio médio:\", desvio_m)"
   ]
  },
  {
   "cell_type": "code",
   "execution_count": 5,
   "metadata": {},
   "outputs": [],
   "source": [
    "import numpy as np\n",
    "import pandas as pd\n",
    "import matplotlib.pyplot as plt\n",
    "import seaborn as sns\n",
    "\n",
    "import os\n",
    "for dirname, _, filenames in os.walk('/kaggle/input'):\n",
    "    for filename in filenames:\n",
    "        print(os.path.join(dirname, filename))\n",
    "        "
   ]
  },
  {
   "cell_type": "code",
   "execution_count": null,
   "metadata": {},
   "outputs": [],
   "source": []
  }
 ],
 "metadata": {
  "kernelspec": {
   "display_name": "Python 3",
   "language": "python",
   "name": "python3"
  },
  "language_info": {
   "codemirror_mode": {
    "name": "ipython",
    "version": 3
   },
   "file_extension": ".py",
   "mimetype": "text/x-python",
   "name": "python",
   "nbconvert_exporter": "python",
   "pygments_lexer": "ipython3",
   "version": "3.9.0"
  }
 },
 "nbformat": 4,
 "nbformat_minor": 4
}
